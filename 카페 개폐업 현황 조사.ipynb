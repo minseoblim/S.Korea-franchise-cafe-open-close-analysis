{
 "cells": [
  {
   "cell_type": "code",
   "execution_count": null,
   "metadata": {},
   "outputs": [],
   "source": [
    "import pandas as pd\n",
    "import os\n",
    "import openpyxl"
   ]
  },
  {
   "cell_type": "markdown",
   "metadata": {},
   "source": [
    "아래 행안부 데이터에서 원하는 자료 다운후 한 파일에 모으기"
   ]
  },
  {
   "cell_type": "markdown",
   "metadata": {},
   "source": [
    "https://www.localdata.kr/devcenter/dataDown.do?menuNo=20001"
   ]
  },
  {
   "cell_type": "code",
   "execution_count": null,
   "metadata": {},
   "outputs": [],
   "source": [
    "path = #'파일위치'\n",
    "file_list = os.listdir(path)\n",
    "file_list_py = [file for file in file_list if file.endswith('.csv')]\n",
    "\n",
    "# 데이터프레임 리미트 해제\n",
    "print(\"pandas version: \", pd.__version__)\n",
    "pd.set_option('display.max_row', 500)\n",
    "pd.set_option('display.max_columns', 100)"
   ]
  },
  {
   "cell_type": "code",
   "execution_count": null,
   "metadata": {},
   "outputs": [],
   "source": [
    "#폴더안 CSV파일 합쳐 한 데이터 프레임으로 만들기\n",
    "df = pd.DataFrame()\n",
    "for i in file_list_py:\n",
    "    data = pd.read_csv(path + i, encoding = 'cp949')\n",
    "    df = pd.concat([df,data])\n",
    "    \n",
    "df = df.reset_index(drop = True)\n",
    "#df.head()\n",
    "pd.options.display.float_format = '{:.0f}'.format #소수점 제외(위도, 경도 필요할시 0갯수 늘려주기)\n"
   ]
  },
  {
   "cell_type": "markdown",
   "metadata": {},
   "source": [
    "프렌차이즈 카페 알아보기 위해 공정거래위원회 가매사업정보 시스템 확인\n",
    "https://franchise.ftc.go.kr/mnu/00014/program/firHope/view.do\n",
    "등록년도: 2020, 비교 항목: 브랜드별 and 브랜드 개요\n",
    "업종 : 외식 and 커피"
   ]
  },
  {
   "cell_type": "code",
   "execution_count": null,
   "metadata": {},
   "outputs": [],
   "source": [
    "df_franchise = pd.read_excel(#'파일위치/2021 프렌차이즈 카페.xlsx', sheet_name= 1)\n",
    "df_franchise_1 = df_franchise[df_franchise[\"가맹점수\"]>=10] #가맹점수 10개 이상인 프렌차이즈만 불러오기\n",
    "cafe_list = list(df_franchise_1['브랜드'])\n",
    "#cafe_list #카페 목록 리스트로 변환\n",
    "#cafe_list"
   ]
  },
  {
   "cell_type": "code",
   "execution_count": null,
   "metadata": {},
   "outputs": [],
   "source": [
    "df_brand_all = pd.DataFrame(columns=['1. 전체 = 폐업 + 개업 포함', '2. 폐업', '3. 영업', \"4. 2020년과 2021년에 문을 닫은 가게\",\n",
    "                               \"5. 2020년 이전에 닫은 가게\", \"6. 2020년 이후에 오픈한 매장수\", \"7. 2020년 이후에 오픈하고 2020년 이후 폐점한 매장수\"])\n",
    "for i in cafe_list:\n",
    "    #프렌차이즈 폐업수와 개업수, 현재 매장을 알아보자\n",
    "    df_cafe = df[df[\"사업장명\"].str.contains( i , na = False) ] # 전체 이디야 = 폐업 + 개업 포함 \n",
    "    df_cafe = df_cafe[df_cafe[\"업태구분명\"].isin(['까페', '커피숍', '다방'])]\n",
    "    print(i)\n",
    "    #print('1. 전체 = 폐업 + 개업 포함')\n",
    "    #print(len(df_cafe))\n",
    "\n",
    "    df_cafe[\"폐업일자\"] = df_cafe[\"폐업일자\"].astype(float) #폐업일자 숫자로 전환\n",
    "\n",
    "    df_cafe_1 = df_cafe[df_cafe[\"상세영업상태명\"].isin(['폐업'])] #폐업\n",
    "    #print(\"2. 폐업\" )\n",
    "    #print(len(df_cafe_1))\n",
    "    df_cafe_2 = df_cafe[df_cafe[\"상세영업상태명\"].isin(['영업'])] #영업\n",
    "    #print(\"3. 영업\" )\n",
    "    #print(len(df_cafe_2))\n",
    "\n",
    "    #2020년과 2021년에 문을 닫은 가게\n",
    "    df_cafe_4 = df_cafe[df_cafe[\"상세영업상태명\"].isin(['폐업']) & (df_cafe[\"폐업일자\"] >= 20200101)] \n",
    "    #print(\"4. 2020년과 2021년에 문을 닫은 가게\" )\n",
    "    #print(len(df_cafe_4))\n",
    "    #2020년 이전에 닫은 가게 \n",
    "    df_cafe_5 = df_cafe[df_cafe[\"상세영업상태명\"].isin(['폐업']) & (df_cafe[\"폐업일자\"] < 20200101) ] \n",
    "    #print(\"5. 2020년 이전에 닫은 가게\")\n",
    "    #print(len(df_cafe_5))\n",
    "\n",
    "\n",
    "    #폐업점 엑셀로 저장\n",
    "    #df_ediya_1.to_excel(excel_writer='이디야 폐업점.xlsx')\n",
    "\n",
    "    #2020년 이후에 오픈한 매장수 \n",
    "    df_cafe_7 = df_cafe_2[df_cafe_2[\"인허가일자\"] >= 20200101]\n",
    "    #print(\"6. 2020년 이후에 오픈한 매장수 \")\n",
    "    #print(len(df_cafe_7))\n",
    "\n",
    "    #2020년 이후에 오픈하고 2020년 이후 폐점한 매장수\n",
    "    df_cafe_8 = df_cafe[(df_cafe[\"인허가일자\"] >= 20201001) & (df_cafe[\"폐업일자\"] >= 20201001)]\n",
    "    #print(\"7. 2020년 이후에 오픈하고 2020년 이후 폐점한 매장수 \")\n",
    "    #print(len(df_cafe_8))\n",
    "    print(\"-------------------------------------------------------------------------\")\n",
    "    \n",
    "    df_list =  [len(df_cafe)] + [len(df_cafe_1)]+[len(df_cafe_2)]+ [len(df_cafe_4)]+ [len(df_cafe_5)]+ [len(df_cafe_7)]+ [len(df_cafe_8)]\n",
    "    df_brand_all.loc[i] = df_list\n",
    "\n",
    "df_brand_all.to_excel(excel_writer='2021 카페 프렌차이즈 개폐업 현황.xlsx')"
   ]
  },
  {
   "cell_type": "code",
   "execution_count": null,
   "metadata": {},
   "outputs": [],
   "source": [
    "#영업중인 점포 찾아보기\n",
    "df_brand_all.sort_values(by=['3. 영업'], axis=0, ascending=False)"
   ]
  }
 ],
 "metadata": {
  "kernelspec": {
   "display_name": "Python 3",
   "language": "python",
   "name": "python3"
  },
  "language_info": {
   "codemirror_mode": {
    "name": "ipython",
    "version": 3
   },
   "file_extension": ".py",
   "mimetype": "text/x-python",
   "name": "python",
   "nbconvert_exporter": "python",
   "pygments_lexer": "ipython3",
   "version": "3.7.3"
  }
 },
 "nbformat": 4,
 "nbformat_minor": 4
}
